{
 "cells": [
  {
   "cell_type": "code",
   "execution_count": 96,
   "metadata": {},
   "outputs": [],
   "source": [
    "import numpy as np\n",
    "import matplotlib.pyplot as plt\n",
    "import pandas as pd"
   ]
  },
  {
   "cell_type": "code",
   "execution_count": 120,
   "metadata": {},
   "outputs": [],
   "source": [
    "def cost_func(x, centroids, idx):\n",
    "    \"\"\"Computes the cost function (inertia) for K-means.\"\"\"\n",
    "    m = len(x)\n",
    "    J = np.sum(np.linalg.norm(x - centroids[idx], axis=1) ** 2)\n",
    "    return J / m"
   ]
  },
  {
   "cell_type": "code",
   "execution_count": 121,
   "metadata": {},
   "outputs": [],
   "source": [
    "def c_cent(x, centroids):\n",
    "    \"\"\"Assigns each point to the nearest centroid.\"\"\"\n",
    "    distances = np.linalg.norm(x[:, np.newaxis] - centroids, axis=2)\n",
    "    return np.argmin(distances, axis=1)"
   ]
  },
  {
   "cell_type": "code",
   "execution_count": 122,
   "metadata": {},
   "outputs": [],
   "source": [
    "def comp_cent(x, idx, k):\n",
    "    \"\"\"Computes new centroids as the mean of assigned points.\"\"\"\n",
    "    centroids = np.array([x[idx == i].mean(axis=0) if len(x[idx == i]) > 0 else np.zeros(x.shape[1]) for i in range(k)])\n",
    "    return centroids"
   ]
  },
  {
   "cell_type": "code",
   "execution_count": 123,
   "metadata": {},
   "outputs": [],
   "source": [
    "def init_cent(x, k):\n",
    "    \"\"\"K-Means++ initialization for better centroids.\"\"\"\n",
    "    centroids = [x[np.random.randint(x.shape[0])]]\n",
    "    for _ in range(1, k):\n",
    "        distances = np.min(np.linalg.norm(x[:, np.newaxis] - np.array(centroids), axis=2), axis=1)\n",
    "        prob = distances ** 2 / np.sum(distances ** 2)\n",
    "        next_centroid = x[np.random.choice(x.shape[0], p=prob)]\n",
    "        centroids.append(next_centroid)\n",
    "    return np.array(centroids)"
   ]
  },
  {
   "cell_type": "code",
   "execution_count": 124,
   "metadata": {},
   "outputs": [],
   "source": [
    "def k_means(x, centroids, iter):\n",
    "    \"\"\"Performs K-means clustering.\"\"\"\n",
    "    k = len(centroids)\n",
    "    for _ in range(iter):\n",
    "        idx = c_cent(x, centroids)\n",
    "        centroids = comp_cent(x, idx, k)\n",
    "    return centroids, idx"
   ]
  },
  {
   "cell_type": "code",
   "execution_count": 133,
   "metadata": {},
   "outputs": [],
   "source": [
    "def load_data(file_path):\n",
    "    \"\"\"Loads dataset from CSV and applies feature scaling.\"\"\"\n",
    "    data = pd.read_csv(file_path)\n",
    "    x = data.values  # Load all columns as features\n",
    "    mean = np.mean(x, axis=0)\n",
    "    std = np.std(x, axis=0)\n",
    "    x = (x - mean) / std\n",
    "    return x  # Ensure this is a NumPy array, not a tuple\n"
   ]
  },
  {
   "cell_type": "code",
   "execution_count": 140,
   "metadata": {},
   "outputs": [],
   "source": [
    "def fit(x, k, epoch, iter):\n",
    "    J_hist = []\n",
    "    cent_hist = []\n",
    "    for _ in range(epoch):\n",
    "        centroids = init_cent(x, k)\n",
    "        cent, idx = k_means(x, centroids, iter)\n",
    "        cent_hist.append((cent, idx))\n",
    "        J_hist.append(cost_func(x, cent, idx))\n",
    "    \n",
    "    best_idx = np.argmin(J_hist)\n",
    "    best_centroids, best_labels = cent_hist[best_idx]\n",
    "    \n",
    "    return best_centroids, best_labels, J_hist[best_idx]  # Only returning 3 values\n"
   ]
  },
  {
   "cell_type": "code",
   "execution_count": 141,
   "metadata": {},
   "outputs": [],
   "source": [
    "def silhouette_score(x, idx, k):\n",
    "    \"\"\"Computes silhouette score manually to find the best k.\"\"\"\n",
    "    scores = []\n",
    "    for i in range(len(x)):\n",
    "        same_cluster = x[idx == idx[i]]\n",
    "        other_clusters = [x[idx == j] for j in range(k) if j != idx[i]]\n",
    "        a = np.mean(np.linalg.norm(same_cluster - x[i], axis=1))\n",
    "        b = min([np.mean(np.linalg.norm(cluster - x[i], axis=1)) for cluster in other_clusters])\n",
    "        scores.append((b - a) / max(a, b))\n",
    "    return np.mean(scores)"
   ]
  },
  {
   "cell_type": "code",
   "execution_count": 142,
   "metadata": {},
   "outputs": [],
   "source": [
    "def find_optimal_k(x, min_k, max_k, epoch, iter):\n",
    "    \"\"\"Finds the optimal k using silhouette score.\"\"\"\n",
    "    best_k, best_score = None, -1\n",
    "    for k in range(min_k, max_k + 1):\n",
    "        _, idx, _ = fit(x, k, epoch, iter)\n",
    "        score = silhouette_score(x, idx, k)\n",
    "        print(f\"k = {k}, Silhouette Score: {score}\")\n",
    "        if score > best_score:\n",
    "            best_k, best_score = k, score\n",
    "    return best_k"
   ]
  },
  {
   "cell_type": "code",
   "execution_count": 143,
   "metadata": {},
   "outputs": [],
   "source": [
    "def plot_clusters(x, idx, centroids):\n",
    "    \"\"\"Plots the clustered data if it's 2D.\"\"\"\n",
    "    if x.shape[1] == 2:\n",
    "        plt.scatter(x[:, 0], x[:, 1], c=idx, cmap='viridis', alpha=0.5)\n",
    "        plt.scatter(centroids[:, 0], centroids[:, 1], c='red', marker='x', s=100)\n",
    "        plt.title(\"K-Means Clustering\")\n",
    "        plt.show()\n",
    "    else:\n",
    "        print(\"Cannot plot data with more than 2 dimensions.\")\n"
   ]
  },
  {
   "cell_type": "code",
   "execution_count": 144,
   "metadata": {},
   "outputs": [],
   "source": [
    "def train_and_evaluate(file_path, min_k=2, max_k=10, epoch=10, iter=100):\n",
    "    \"\"\"Loads data, finds optimal k, trains K-means, and evaluates cost.\"\"\"\n",
    "    x = load_data(file_path)\n",
    "    best_k = find_optimal_k(x, min_k, max_k, epoch, iter)\n",
    "    print(f\"Optimal k found: {best_k}\")\n",
    "    cent, idx, J_hist = fit(x, best_k, epoch, iter)\n",
    "    print(f\"Final Cost: {J_hist}\")\n",
    "    plot_clusters(x, idx, cent)\n",
    "    return cent, idx, J_hist"
   ]
  },
  {
   "cell_type": "code",
   "execution_count": 145,
   "metadata": {},
   "outputs": [
    {
     "name": "stdout",
     "output_type": "stream",
     "text": [
      "k = 2, Silhouette Score: 0.4947151504802449\n",
      "k = 3, Silhouette Score: 0.4263135004459815\n",
      "k = 4, Silhouette Score: 0.4820089738869869\n",
      "k = 5, Silhouette Score: 0.5098747841368713\n",
      "k = 6, Silhouette Score: 0.5144932283416057\n",
      "k = 7, Silhouette Score: 0.4542618015677831\n",
      "k = 8, Silhouette Score: 0.46673773237995464\n",
      "k = 9, Silhouette Score: 0.42352679629827833\n",
      "k = 10, Silhouette Score: 0.42229739799063054\n",
      "Optimal k found: 6\n",
      "Final Cost: 0.5219678550653898\n",
      "Cannot plot data with more than 2 dimensions.\n"
     ]
    },
    {
     "data": {
      "text/plain": [
       "(array([[ 0.86699059, -0.48395103, -0.38829204],\n",
       "        [ 0.05142487, -0.47849131,  1.68282789],\n",
       "        [-0.88341832, -0.48973022, -0.37249507],\n",
       "        [ 0.88186648,  1.94911212,  0.00913077],\n",
       "        [ 0.14599255,  1.90269816,  4.36656909],\n",
       "        [-0.85728173,  1.95571619, -0.02695281]]),\n",
       " array([1, 1, 1, ..., 3, 3, 5]),\n",
       " np.float64(0.5219678550653898))"
      ]
     },
     "execution_count": 145,
     "metadata": {},
     "output_type": "execute_result"
    }
   ],
   "source": [
    "train_and_evaluate(r\"C:\\Users\\user\\Downloads\\driver-data.csv\", min_k=2, max_k=10, epoch=10, iter=100)\n"
   ]
  },
  {
   "cell_type": "code",
   "execution_count": null,
   "metadata": {},
   "outputs": [],
   "source": []
  }
 ],
 "metadata": {
  "kernelspec": {
   "display_name": "Python 3",
   "language": "python",
   "name": "python3"
  },
  "language_info": {
   "codemirror_mode": {
    "name": "ipython",
    "version": 3
   },
   "file_extension": ".py",
   "mimetype": "text/x-python",
   "name": "python",
   "nbconvert_exporter": "python",
   "pygments_lexer": "ipython3",
   "version": "3.11.4"
  }
 },
 "nbformat": 4,
 "nbformat_minor": 2
}
